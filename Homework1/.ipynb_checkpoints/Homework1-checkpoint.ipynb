{
 "cells": [
  {
   "cell_type": "code",
   "execution_count": 1,
   "id": "1359e7b6-1a17-4ece-a10d-14c63875d157",
   "metadata": {},
   "outputs": [
    {
     "name": "stderr",
     "output_type": "stream",
     "text": [
      "C:\\Users\\qhddn\\AppData\\Local\\Programs\\Python\\Python310\\lib\\site-packages\\tqdm\\auto.py:22: TqdmWarning: IProgress not found. Please update jupyter and ipywidgets. See https://ipywidgets.readthedocs.io/en/stable/user_install.html\n",
      "  from .autonotebook import tqdm as notebook_tqdm\n"
     ]
    }
   ],
   "source": [
    "import torch\n",
    "import torch.nn as nn\n",
    "import torch.nn.functional as F\n",
    "import torch.optim as optim\n",
    "from torchvision import datasets, transforms\n",
    "import numpy as np\n",
    "import matplotlib.pyplot as plt\n",
    "\n",
    "%load_ext autoreload\n",
    "%autoreload 2\n",
    "\n",
    "from model import DNN\n"
   ]
  },
  {
   "cell_type": "code",
   "execution_count": 2,
   "id": "d550699b-083f-4be9-8184-1ddac4e99a74",
   "metadata": {},
   "outputs": [],
   "source": [
    "# Hyperparameters\n",
    "input_size = 784\n",
    "hidden_size = [128, 64]\n",
    "output_size = 10\n",
    "num_epochs = 20\n",
    "learning_rate = 0.001"
   ]
  },
  {
   "cell_type": "code",
   "execution_count": 3,
   "id": "dfd7edc9-a8af-4624-a513-7dc550bde12d",
   "metadata": {},
   "outputs": [],
   "source": [
    "# Download and load the MNIST data\n",
    "train_data = datasets.MNIST('mnist_data', train=False, download=True, transform=transforms.Compose([transforms.ToTensor()]))\n",
    "test_data = datasets.MNIST('mnist_data', train=False, download=True, transform=transforms.Compose([transforms.ToTensor()]))\n",
    "\n",
    "train_loader = torch.utils.data.DataLoader(train_data, batch_size=1, shuffle=True)\n",
    "test_loader = torch.utils.data.DataLoader(test_data, batch_size=1, shuffle=False)\n"
   ]
  },
  {
   "cell_type": "code",
   "execution_count": 4,
   "id": "91c57d1a-f236-4ba7-8d11-3b595e9673ab",
   "metadata": {},
   "outputs": [
    {
     "name": "stdout",
     "output_type": "stream",
     "text": [
      "torch.Size([10000, 28, 28]) torch.Size([10000, 28, 28])\n"
     ]
    },
    {
     "name": "stderr",
     "output_type": "stream",
     "text": [
      "C:\\Users\\qhddn\\AppData\\Local\\Programs\\Python\\Python310\\lib\\site-packages\\torchvision\\datasets\\mnist.py:75: UserWarning: train_data has been renamed data\n",
      "  warnings.warn(\"train_data has been renamed data\")\n",
      "C:\\Users\\qhddn\\AppData\\Local\\Programs\\Python\\Python310\\lib\\site-packages\\torchvision\\datasets\\mnist.py:80: UserWarning: test_data has been renamed data\n",
      "  warnings.warn(\"test_data has been renamed data\")\n"
     ]
    }
   ],
   "source": [
    "train_loader_shape = train_loader.dataset.train_data.shape\n",
    "test_loader_shape = test_loader.dataset.test_data.shape\n",
    "\n",
    "print(train_loader_shape, test_loader_shape)"
   ]
  },
  {
   "cell_type": "code",
   "execution_count": 5,
   "id": "4a13a83a-db9a-410c-a95a-d512224374af",
   "metadata": {},
   "outputs": [
    {
     "name": "stdout",
     "output_type": "stream",
     "text": [
      "CUDA Available: False\n"
     ]
    }
   ],
   "source": [
    "use_cuda = True  \n",
    "# Define what device we are using\n",
    "print(\"CUDA Available:\", torch.cuda.is_available())  \n",
    "\n",
    "device = torch.device(\"cuda\" if (use_cuda and torch.cuda.is_available()) else \"cpu\")\n"
   ]
  },
  {
   "cell_type": "code",
   "execution_count": 6,
   "id": "7d9b4dd8-04a2-4a15-b292-59fd89f2f10e",
   "metadata": {},
   "outputs": [
    {
     "name": "stdout",
     "output_type": "stream",
     "text": [
      "Start Training ...\n",
      "Train Epoch 1:: Accuracy: 8765/10000 (88%)\n",
      "Train Epoch 2:: Accuracy: 9450/10000 (94%)\n",
      "Train Epoch 3:: Accuracy: 9626/10000 (96%)\n",
      "Train Epoch 4:: Accuracy: 9719/10000 (97%)\n",
      "Train Epoch 5:: Accuracy: 9760/10000 (98%)\n",
      "Train Epoch 6:: Accuracy: 9830/10000 (98%)\n",
      "Train Epoch 7:: Accuracy: 9851/10000 (99%)\n",
      "Train Epoch 8:: Accuracy: 9876/10000 (99%)\n",
      "Train Epoch 9:: Accuracy: 9860/10000 (99%)\n",
      "Train Epoch 10:: Accuracy: 9900/10000 (99%)\n",
      "Train Epoch 11:: Accuracy: 9901/10000 (99%)\n",
      "Train Epoch 12:: Accuracy: 9919/10000 (99%)\n",
      "Train Epoch 13:: Accuracy: 9889/10000 (99%)\n",
      "Train Epoch 14:: Accuracy: 9928/10000 (99%)\n",
      "Train Epoch 15:: Accuracy: 9924/10000 (99%)\n",
      "Train Epoch 16:: Accuracy: 9934/10000 (99%)\n",
      "Train Epoch 17:: Accuracy: 9936/10000 (99%)\n",
      "Train Epoch 18:: Accuracy: 9946/10000 (99%)\n",
      "Train Epoch 19:: Accuracy: 9958/10000 (100%)\n",
      "Train Epoch 20:: Accuracy: 9942/10000 (99%)\n",
      "Finished Training\n",
      "Saving the model\n"
     ]
    }
   ],
   "source": [
    "# Initialize the network\n",
    "model = DNN(input_size, hidden_size, output_size)\n",
    "model = model.to(device)\n",
    "\n",
    "# Train the model\n",
    "train_acc = model.train(model, device, train_loader, learning_rate, num_epochs)\n"
   ]
  },
  {
   "cell_type": "code",
   "execution_count": 7,
   "id": "64804f3c-43dc-4545-b160-a31be4acf22b",
   "metadata": {},
   "outputs": [
    {
     "name": "stdout",
     "output_type": "stream",
     "text": [
      "Start Testing ...\n",
      "Test Epoch 1:: Accuracy: 9972/10000 (100%)\n",
      "Test Epoch 2:: Accuracy: 9972/10000 (100%)\n",
      "Test Epoch 3:: Accuracy: 9972/10000 (100%)\n",
      "Test Epoch 4:: Accuracy: 9972/10000 (100%)\n",
      "Test Epoch 5:: Accuracy: 9972/10000 (100%)\n",
      "Test Epoch 6:: Accuracy: 9972/10000 (100%)\n",
      "Test Epoch 7:: Accuracy: 9972/10000 (100%)\n",
      "Test Epoch 8:: Accuracy: 9972/10000 (100%)\n",
      "Test Epoch 9:: Accuracy: 9972/10000 (100%)\n",
      "Test Epoch 10:: Accuracy: 9972/10000 (100%)\n",
      "Test Epoch 11:: Accuracy: 9972/10000 (100%)\n",
      "Test Epoch 12:: Accuracy: 9972/10000 (100%)\n",
      "Test Epoch 13:: Accuracy: 9972/10000 (100%)\n",
      "Test Epoch 14:: Accuracy: 9972/10000 (100%)\n",
      "Test Epoch 15:: Accuracy: 9972/10000 (100%)\n",
      "Test Epoch 16:: Accuracy: 9972/10000 (100%)\n",
      "Test Epoch 17:: Accuracy: 9972/10000 (100%)\n",
      "Test Epoch 18:: Accuracy: 9972/10000 (100%)\n",
      "Test Epoch 19:: Accuracy: 9972/10000 (100%)\n",
      "Test Epoch 20:: Accuracy: 9972/10000 (100%)\n",
      "Finished Testing\n"
     ]
    }
   ],
   "source": [
    "# Load the trained model\n",
    "model.load_state_dict(torch.load(\"../Homework1/model.pth\", map_location='cpu'))\n",
    "\n",
    "# Test the model\n",
    "test_acc = model.test(model, device, test_loader, num_epochs)\n"
   ]
  },
  {
   "cell_type": "code",
   "execution_count": 8,
   "id": "2c9f470e-1f6c-40d8-a0ba-126d98f16fbf",
   "metadata": {},
   "outputs": [
    {
     "name": "stdout",
     "output_type": "stream",
     "text": [
      "Average accuracy of Training: 97.95700000000001 %\n",
      "Average accuracy of Testing: 99.72 %\n"
     ]
    }
   ],
   "source": [
    "# Calculate the average train and test accuracy over 20 epochs\n",
    "avg_train_accuracy = np.sum(train_acc) / len(train_acc)\n",
    "print(\"Average accuracy of Training:\", avg_train_accuracy, \"%\")\n",
    "\n",
    "avg_test_accuracy = np.sum(test_acc) / len(test_acc)\n",
    "print(\"Average accuracy of Testing:\", avg_test_accuracy, \"%\")"
   ]
  },
  {
   "cell_type": "code",
   "execution_count": 9,
   "id": "25f5e995-4f40-4fbd-b537-c441c2cffb7b",
   "metadata": {},
   "outputs": [
    {
     "data": {
      "image/png": "[encoded data removed]",
      "text/plain": [
       "<Figure size 500x500 with 1 Axes>"
      ]
     },
     "metadata": {},
     "output_type": "display_data"
    }
   ],
   "source": [
    "# plot a graph of accuracy training ve testing\n",
    "plt.figure(figsize=(5, 5))\n",
    "plt.plot(train_acc)\n",
    "plt.plot(test_acc)\n",
    "plt.title(\"Training vs Testing\")\n",
    "plt.xlabel(\"Epoch\")\n",
    "plt.ylabel(\"Accuracy(%)\")\n",
    "plt.legend(['train', 'test'], fontsize=7)\n",
    "plt.show()\n"
   ]
  },
  {
   "cell_type": "code",
   "execution_count": null,
   "id": "990f471e-64c8-4a15-90bf-11cea79481b0",
   "metadata": {},
   "outputs": [],
   "source": []
  }
 ],
 "metadata": {
  "kernelspec": {
   "display_name": "Python 3 (ipykernel)",
   "language": "python",
   "name": "python3"
  },
  "language_info": {
   "codemirror_mode": {
    "name": "ipython",
    "version": 3
   },
   "file_extension": ".py",
   "mimetype": "text/x-python",
   "name": "python",
   "nbconvert_exporter": "python",
   "pygments_lexer": "ipython3",
   "version": "3.10.7"
  }
 },
 "nbformat": 4,
 "nbformat_minor": 5
}
